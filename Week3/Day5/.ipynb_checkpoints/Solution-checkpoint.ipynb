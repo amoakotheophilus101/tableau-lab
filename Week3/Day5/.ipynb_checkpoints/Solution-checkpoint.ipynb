{
 "cells": [
  {
   "cell_type": "code",
   "execution_count": 2,
   "id": "14ffd551-98de-4918-a30b-bb9e0d40597e",
   "metadata": {},
   "outputs": [],
   "source": [
    "import pandas as pd\n",
    "from sqlalchemy import create_engine"
   ]
  },
  {
   "cell_type": "code",
   "execution_count": null,
   "id": "a579d45c-77a9-4f83-9ad5-a82c53298877",
   "metadata": {},
   "outputs": [],
   "source": []
  },
  {
   "cell_type": "code",
   "execution_count": 5,
   "id": "42dc238b-ea5f-4280-98cc-95a2a62e8915",
   "metadata": {},
   "outputs": [],
   "source": [
    "# Replace these values with your actual MySQL login details\n",
    "username = 'your_username'\n",
    "password = 'your_password'\n",
    "host = 'localhost'  # or IP address\n",
    "port = '3306'\n",
    "database = 'sakila'\n",
    "\n",
    "# Create SQLAlchemy engine\n",
    "engine = create_engine(f'mysql+pymysql://{username}:{password}@{host}:{port}/{database}')"
   ]
  },
  {
   "cell_type": "code",
   "execution_count": null,
   "id": "c682087c-4fd5-4be6-84ac-4c88da406857",
   "metadata": {},
   "outputs": [],
   "source": []
  },
  {
   "cell_type": "code",
   "execution_count": 8,
   "id": "56c31811-684b-4d93-b3de-590fc9709a53",
   "metadata": {},
   "outputs": [
    {
     "name": "stdout",
     "output_type": "stream",
     "text": [
      "Requirement already satisfied: pymysql in /opt/anaconda3/lib/python3.12/site-packages (1.0.2)\n",
      "Note: you may need to restart the kernel to use updated packages.\n"
     ]
    }
   ],
   "source": [
    "pip install pymysql\n"
   ]
  },
  {
   "cell_type": "code",
   "execution_count": null,
   "id": "448b7efd-35ee-4d02-8ef8-737e3878a933",
   "metadata": {},
   "outputs": [],
   "source": []
  },
  {
   "cell_type": "code",
   "execution_count": 10,
   "id": "5caec6c0-503b-45e3-b5f7-074bb95e18ad",
   "metadata": {},
   "outputs": [],
   "source": [
    "# Function to get Rentals for a Given Month\n",
    "def rentals_month(engine, month, year):\n",
    "    query = f\"\"\"\n",
    "    SELECT customer_id, rental_date\n",
    "    FROM rental\n",
    "    WHERE MONTH(rental_date) = {month}\n",
    "      AND YEAR(rental_date) = {year};\n",
    "    \"\"\"\n",
    "    return pd.read_sql(query, engine)\n"
   ]
  },
  {
   "cell_type": "code",
   "execution_count": null,
   "id": "41e14e68-e0f1-4c54-9c7a-8e3f976c1467",
   "metadata": {},
   "outputs": [],
   "source": []
  },
  {
   "cell_type": "code",
   "execution_count": 12,
   "id": "baa90d3a-cd3b-4c7a-a839-567fda559a89",
   "metadata": {},
   "outputs": [],
   "source": [
    "# Count Rental Per Customer in a Month\n",
    "def rental_count_month(df, month, year):\n",
    "    count_df = df.groupby('customer_id').size().reset_index(name=f\"rentals_{month:02}_{year}\")\n",
    "    return count_df\n"
   ]
  },
  {
   "cell_type": "code",
   "execution_count": null,
   "id": "2cf712f5-4871-4794-b1de-c65973f1a1a2",
   "metadata": {},
   "outputs": [],
   "source": []
  },
  {
   "cell_type": "code",
   "execution_count": 14,
   "id": "7419b5c0-8b06-471f-ae85-ec18cfa1c7a1",
   "metadata": {},
   "outputs": [],
   "source": [
    "def compare_rentals(df1, df2):\n",
    "    # Merge on customer_id, use outer join to capture customers in either month\n",
    "    merged = pd.merge(df1, df2, on='customer_id', how='outer').fillna(0)\n",
    "\n",
    "    # Get the column names\n",
    "    col1 = df1.columns[1]\n",
    "    col2 = df2.columns[1]\n",
    "\n",
    "    # Add difference column\n",
    "    merged['difference'] = merged[col2] - merged[col1]\n",
    "\n",
    "    return merged\n"
   ]
  },
  {
   "cell_type": "code",
   "execution_count": null,
   "id": "e4ee0793-5c37-4ccd-a9fd-82cd2f5a817a",
   "metadata": {},
   "outputs": [],
   "source": []
  },
  {
   "cell_type": "code",
   "execution_count": null,
   "id": "db737d99-54d6-4481-acdc-07d5841f0097",
   "metadata": {},
   "outputs": [],
   "source": []
  },
  {
   "cell_type": "code",
   "execution_count": null,
   "id": "3c4fc709-7aee-4599-a2f3-29bb9ba4186d",
   "metadata": {},
   "outputs": [],
   "source": []
  }
 ],
 "metadata": {
  "kernelspec": {
   "display_name": "Python [conda env:base] *",
   "language": "python",
   "name": "conda-base-py"
  },
  "language_info": {
   "codemirror_mode": {
    "name": "ipython",
    "version": 3
   },
   "file_extension": ".py",
   "mimetype": "text/x-python",
   "name": "python",
   "nbconvert_exporter": "python",
   "pygments_lexer": "ipython3",
   "version": "3.12.7"
  }
 },
 "nbformat": 4,
 "nbformat_minor": 5
}
